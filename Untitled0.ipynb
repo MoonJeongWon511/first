{
  "nbformat": 4,
  "nbformat_minor": 0,
  "metadata": {
    "colab": {
      "provenance": [],
      "authorship_tag": "ABX9TyN9ZOl4flURtUxJUeo9dEpK",
      "include_colab_link": true
    },
    "kernelspec": {
      "name": "python3",
      "display_name": "Python 3"
    },
    "language_info": {
      "name": "python"
    }
  },
  "cells": [
    {
      "cell_type": "markdown",
      "metadata": {
        "id": "view-in-github",
        "colab_type": "text"
      },
      "source": [
        "<a href=\"https://colab.research.google.com/github/MoonJeongWon511/first/blob/main/Untitled0.ipynb\" target=\"_parent\"><img src=\"https://colab.research.google.com/assets/colab-badge.svg\" alt=\"Open In Colab\"/></a>"
      ]
    },
    {
      "cell_type": "code",
      "execution_count": 7,
      "metadata": {
        "colab": {
          "base_uri": "https://localhost:8080/"
        },
        "id": "ouq6SWHk6w4n",
        "outputId": "ecd6b53b-c766-472d-be34-01a78b9a41ab"
      },
      "outputs": [
        {
          "output_type": "stream",
          "name": "stdout",
          "text": [
            "아바타\n",
            "타이타닉\n",
            "스타워즈\n",
            "주라기 월드\n",
            "어벤져스\n"
          ]
        }
      ],
      "source": [
        "movie_list = [\"아바타\", \"타이타닉\", \"스타워즈\", \"주라기 월드\", \"어벤져스\"]\n",
        "print(movie_list[0])\n",
        "print(movie_list[1])\n",
        "print(movie_list[2])\n",
        "print(movie_list[3])\n",
        "print(movie_list[4])"
      ]
    }
  ]
}