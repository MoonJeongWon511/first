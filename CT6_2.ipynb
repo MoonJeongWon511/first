{
  "nbformat": 4,
  "nbformat_minor": 0,
  "metadata": {
    "colab": {
      "provenance": [],
      "authorship_tag": "ABX9TyORF4BpQHvOBud+YSrLLisG",
      "include_colab_link": true
    },
    "kernelspec": {
      "name": "python3",
      "display_name": "Python 3"
    },
    "language_info": {
      "name": "python"
    }
  },
  "cells": [
    {
      "cell_type": "markdown",
      "metadata": {
        "id": "view-in-github",
        "colab_type": "text"
      },
      "source": [
        "<a href=\"https://colab.research.google.com/github/MoonJeongWon511/first/blob/main/CT6_2.ipynb\" target=\"_parent\"><img src=\"https://colab.research.google.com/assets/colab-badge.svg\" alt=\"Open In Colab\"/></a>"
      ]
    },
    {
      "cell_type": "markdown",
      "source": [],
      "metadata": {
        "id": "1NkOhwglnjkH"
      }
    },
    {
      "cell_type": "code",
      "execution_count": 87,
      "metadata": {
        "colab": {
          "base_uri": "https://localhost:8080/"
        },
        "id": "g9aAIylQY_vr",
        "outputId": "35e05e6a-4745-4369-9ced-c113980719c4"
      },
      "outputs": [
        {
          "output_type": "stream",
          "name": "stdout",
          "text": [
            "grade의 값을 입력하시오.:1\n",
            "grade의 값을 입력하시오.:2\n",
            "grade의 값을 입력하시오.:3\n",
            "grade의 값을 입력하시오.:4\n",
            "grade의 값을 입력하시오.:5\n",
            "grade의 값을 입력하시오.:6\n",
            "grade의 값을 입력하시오.:7\n",
            "grade의 값을 입력하시오.:8\n",
            "grade의 값을 입력하시오.:9\n",
            "grade의 값을 입력하시오.:10\n",
            "합= 55 평균= 5.5\n"
          ]
        }
      ],
      "source": [
        "total = 0                                              # total은 0이다.                                                                                 \n",
        "counter = 1                                            # counter는 1이다.\n",
        "while counter <= 10 :                                  # while counter는 10보다 작거나 같다\n",
        "       grade=int(input(\"grade의 값을 입력하시오.:\"))   # 사용자에게 성적을 받아라\n",
        "       total = grade + total                           # total 변수에 성적과 변수값을 저장하라\n",
        "       counter = counter + 1                           # counter에 1을 더하라\n",
        "average = total/10                                     # average 변수에 10으로 나눈 평균값을 저장하라\n",
        "print('합=',total,'평균=',average)                     # 합과 변수 total, 평균과 average 값을 화면에 출력하라"
      ]
    }
  ]
}